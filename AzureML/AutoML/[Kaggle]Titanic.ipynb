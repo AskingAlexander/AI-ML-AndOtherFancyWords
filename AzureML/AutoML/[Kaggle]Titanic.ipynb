{
 "cells": [
  {
   "attachments": {},
   "cell_type": "markdown",
   "metadata": {},
   "source": [
    "# The classical classification problem\n",
    "\n",
    "We are going to tackle the most common task, a classification, and what's better to use than [Titanic - Machine Learning from Disaster](https://www.kaggle.com/c/titanic).\n",
    "\n",
    "In order to get Azure AutoML Working I suggest following the setup for the [SDK V1](https://github.com/Azure/azureml-examples/blob/main/v1/python-sdk/tutorials/automl-with-azureml/README.md#setup-using-a-local-conda-environment).\n"
   ]
  },
  {
   "cell_type": "code",
   "execution_count": null,
   "metadata": {},
   "outputs": [],
   "source": [
    "# General Imports\n",
    "from os import path\n",
    "\n",
    "import pandas as pd\n",
    "import joblib\n"
   ]
  },
  {
   "cell_type": "code",
   "execution_count": null,
   "metadata": {},
   "outputs": [],
   "source": [
    "# Azure ML Imports\n",
    "from azureml.train.automl import AutoMLConfig\n",
    "from azureml.core.experiment import Experiment\n",
    "from azureml.core import Workspace\n"
   ]
  },
  {
   "cell_type": "code",
   "execution_count": null,
   "metadata": {},
   "outputs": [],
   "source": [
    "# Constants and configurations\n",
    "trainDS = ''  # You need to use your own path\n",
    "\n",
    "labelColumn = 'Survived'\n",
    "experiment_name = 'titanic-machineLearningFromDisaster'\n"
   ]
  },
  {
   "cell_type": "code",
   "execution_count": null,
   "metadata": {},
   "outputs": [],
   "source": [
    "train_data = pd.read_csv(trainDS)\n"
   ]
  },
  {
   "cell_type": "code",
   "execution_count": null,
   "metadata": {},
   "outputs": [],
   "source": [
    "# AutoML Local Setup\n",
    "automl_classifier = AutoMLConfig(task='classification',\n",
    "                                 primary_metric='AUC_weighted',\n",
    "                                 experiment_timeout_minutes=15,\n",
    "                                 training_data=train_data,\n",
    "                                 label_column_name=labelColumn,\n",
    "                                 n_cross_validations=2)\n"
   ]
  },
  {
   "cell_type": "code",
   "execution_count": null,
   "metadata": {},
   "outputs": [],
   "source": [
    "ws = Workspace.from_config('')\n",
    "# use the config from you Azure Machine Learning Workspace\n"
   ]
  },
  {
   "cell_type": "code",
   "execution_count": null,
   "metadata": {},
   "outputs": [],
   "source": [
    "experiment = Experiment(workspace=ws, name=experiment_name)\n",
    "local_run = experiment.submit(automl_classifier, show_output=True)\n"
   ]
  },
  {
   "cell_type": "code",
   "execution_count": null,
   "metadata": {},
   "outputs": [],
   "source": [
    "best_run, fitted_model = local_run.get_output()\n",
    "print(best_run)\n",
    "print(fitted_model)\n",
    "\n",
    "model_name = experiment_name + \".pkl\"\n",
    "joblib.dump(value=fitted_model, filename=model_name)\n"
   ]
  },
  {
   "attachments": {},
   "cell_type": "markdown",
   "metadata": {},
   "source": [
    "# Now let's actually use it\n"
   ]
  },
  {
   "cell_type": "code",
   "execution_count": null,
   "metadata": {},
   "outputs": [],
   "source": [
    "# First Read the data that we need to predict\n",
    "df = pd.read_csv('')\n"
   ]
  },
  {
   "cell_type": "code",
   "execution_count": null,
   "metadata": {},
   "outputs": [],
   "source": [
    "df['target'] = fitted_model.predict(df)\n",
    "\n",
    "df.to_csv('results.csv', columns=['id', 'target'], index=False)\n"
   ]
  },
  {
   "attachments": {},
   "cell_type": "markdown",
   "metadata": {},
   "source": [
    "# Now you can submit it on Kaggle"
   ]
  }
 ],
 "metadata": {
  "kernelspec": {
   "display_name": "Python (azure_automl)",
   "language": "python",
   "name": "azure_automl"
  },
  "language_info": {
   "codemirror_mode": {
    "name": "ipython",
    "version": 3
   },
   "file_extension": ".py",
   "mimetype": "text/x-python",
   "name": "python",
   "nbconvert_exporter": "python",
   "pygments_lexer": "ipython3",
   "version": "3.8.15"
  },
  "orig_nbformat": 4,
  "vscode": {
   "interpreter": {
    "hash": "944844457e17b2d4af573f6bc8ad74c5c06641ef1de1dcf4595f7e179e38c406"
   }
  }
 },
 "nbformat": 4,
 "nbformat_minor": 2
}
